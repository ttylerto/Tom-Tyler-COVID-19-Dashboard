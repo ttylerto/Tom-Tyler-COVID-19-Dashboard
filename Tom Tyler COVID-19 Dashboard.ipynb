{
 "cells": [
  {
   "cell_type": "code",
   "execution_count": 13,
   "id": "33e95ee4",
   "metadata": {},
   "outputs": [
    {
     "name": "stdout",
     "output_type": "stream",
     "text": [
      "Requirement already satisfied: uk-covid19 in c:\\users\\tomty\\anaconda3\\lib\\site-packages (1.2.2)\n",
      "Requirement already satisfied: requests in c:\\users\\tomty\\anaconda3\\lib\\site-packages (from uk-covid19) (2.31.0)\n",
      "Requirement already satisfied: certifi in c:\\users\\tomty\\anaconda3\\lib\\site-packages (from uk-covid19) (2023.11.17)\n",
      "Requirement already satisfied: charset-normalizer<4,>=2 in c:\\users\\tomty\\anaconda3\\lib\\site-packages (from requests->uk-covid19) (2.0.4)\n",
      "Requirement already satisfied: idna<4,>=2.5 in c:\\users\\tomty\\anaconda3\\lib\\site-packages (from requests->uk-covid19) (3.4)\n",
      "Requirement already satisfied: urllib3<3,>=1.21.1 in c:\\users\\tomty\\anaconda3\\lib\\site-packages (from requests->uk-covid19) (1.26.16)\n",
      "Note: you may need to restart the kernel to use updated packages.\n"
     ]
    }
   ],
   "source": [
    "pip install uk-covid19"
   ]
  },
  {
   "cell_type": "code",
   "execution_count": 200,
   "id": "4b912973",
   "metadata": {
    "tags": []
   },
   "outputs": [],
   "source": [
    "from uk_covid19 import Cov19API\n",
    "import json\n",
    "from IPython.display import clear_output\n",
    "import ipywidgets as wdg\n",
    "import itertools\n",
    "import pandas as pd\n",
    "import datetime\n",
    "import numpy as np\n",
    "import matplotlib.pyplot as plt\n",
    "%matplotlib inline\n",
    "plt.rcParams['figure.dpi'] = 200"
   ]
  },
  {
   "cell_type": "code",
   "execution_count": 183,
   "id": "41edf5fe",
   "metadata": {},
   "outputs": [
    {
     "data": {
      "application/vnd.jupyter.widget-view+json": {
       "model_id": "36fc08817572417db89f64a79f875bdd",
       "version_major": 2,
       "version_minor": 0
      },
      "text/plain": [
       "Button(description='Refresh data', icon='download', style=ButtonStyle(), tooltip='Click to download current Pu…"
      ]
     },
     "metadata": {},
     "output_type": "display_data"
    }
   ],
   "source": [
    "apibutton=wdg.Button(\n",
    "    description='Refresh data',\n",
    "    disabled=False,\n",
    "    button_style='', # 'success', 'info', 'warning', 'danger' or ''\n",
    "    tooltip='Click to download current Public Health England data',\n",
    "    icon='download' # (FontAwesome names without the `fa-` prefix)\n",
    ")\n",
    "apibutton.on_click(access_api)\n",
    "display(apibutton)"
   ]
  },
  {
   "cell_type": "code",
   "execution_count": 222,
   "id": "d12e2977",
   "metadata": {},
   "outputs": [],
   "source": [
    "def ApiInput(filt, struct):\n",
    "    api = Cov19API(filters=filt, structure=struct).get_json()\n",
    "    output = api.get(\"data\")\n",
    "    return output\n",
    "\n",
    "def normaliseDate(dat):\n",
    "    ##makes date the index\n",
    "    df = pd.json_normalize(dat)\n",
    "    df['date'] = pd.to_datetime(df[\"date\"])\n",
    "    df.set_index(\"date\", inplace = True)\n",
    "    df = df.loc['2020-04-01':'2022-05-01']\n",
    "    return df\n",
    "\n",
    "def normaliseAge(field, df):\n",
    "    df = pd.json_normalize(df.get(field))\n",
    "    df = df.set_index(\"age\")\n",
    "    df = df.drop(['value'], axis = 1)\n",
    "    return df\n",
    "\n",
    "def newColumns(df): \n",
    "    ## adding case fatality & case hospitalisation\n",
    "    df['case-21'] = df['cases'].shift(-21) #accounts for ~3 week latency between infection & death?\n",
    "    df['case-14'] = df['cases'].shift(-14) #accounts for ~2 week incubation prior to hospitalisation?\n",
    "    df['caseFatality'] = np.where(df['case-21'] != 0, df['deathRate']/df['case-21']*100, np.nan)\n",
    "    df['caseHospitalisation'] = np.where(df['case-14'] != 0, df['hospitalRate']/df['case-21']*100, np.nan)\n",
    "    df = df.drop(['case-21','cases','case-14','deathRate','hospitalRate'], axis = 1) #we don't need these anymore\n",
    "    return df\n",
    "\n",
    "def access_api(button):\n",
    "    apibutton.icon=\"check\"\n",
    "    apibutton.disabled=True"
   ]
  },
  {
   "cell_type": "code",
   "execution_count": 231,
   "id": "3893c426",
   "metadata": {},
   "outputs": [],
   "source": [
    "filtGenderAge = [\n",
    "    'areaType=nation',\n",
    "    'areaName=England']\n",
    "structDeaths = {\n",
    "    \"maleDeaths\": \"maleDeaths28Days\",\n",
    "    \"femaleDeaths\": \"femaleDeaths28Days\"}\n",
    "deaths = ApiInput(filtGenderAge,structDeaths)[0]\n",
    "maleDeaths = normaliseAge(\"maleDeaths\", deaths)\n",
    "femaleDeaths = normaliseAge(\"femaleDeaths\", deaths)\n",
    "allDeaths_df = pd.merge(maleDeaths, femaleDeaths, on='age', suffixes=('_male', '_female'))\n",
    "allDeaths_df.rename(columns={'rate_male':'Male Deaths', 'rate_female':'Female Deaths'}, inplace=True)\n",
    "allDeaths_df.to_pickle(\"allDeaths_df.pkl\")"
   ]
  },
  {
   "cell_type": "code",
   "execution_count": 225,
   "id": "75a0111a",
   "metadata": {},
   "outputs": [],
   "source": [
    "filtEng = ['areaType=nation', 'areaName=England']\n",
    "filtSco = ['areaType=nation', 'areaName=Scotland']\n",
    "struct = {'date': 'date',\n",
    "          \"cases\": \"newCasesBySpecimenDateRollingSum\",\n",
    "          \"hospitalRate\": \"newAdmissionsRollingSum\",\n",
    "          \"deathRate\": \"newDeaths28DaysByDeathDateRollingSum\",\n",
    "          \"vaxxRate\" : \"cumVaccinationFirstDoseUptakeByVaccinationDatePercentage\"}\n",
    "EngOverview = ApiInput(filtEng,struct)\n",
    "ScoOverview = ApiInput(filtSco,struct)\n",
    "Eng_df = newColumns(normaliseDate(EngOverview))\n",
    "Sco_df = newColumns(normaliseDate(ScoOverview))\n",
    "Eng_df.to_pickle(\"EngProg_df.pkl\")\n",
    "Sco_df.to_pickle(\"ScoProg_df.pkl\")"
   ]
  },
  {
   "cell_type": "code",
   "execution_count": 263,
   "id": "1486ffda",
   "metadata": {},
   "outputs": [],
   "source": [
    "def updatePlotPercent(series,scale):\n",
    "    if series == 'England':\n",
    "        Eng_df.plot(title='England Vaccination vs. COVID-19 Prognosis', color = ['blue','red','orange'])\n",
    "    elif series == 'Scotland':\n",
    "        Sco_df.plot(title='Scotland Vaccination vs. COVID-19 Prognosis', color = ['blue','red','orange'])\n",
    "    plt.xlabel('Date')\n",
    "    plt.ylabel('Percent')\n",
    "    if scale == 'log':\n",
    "        plt.yscale('log')\n",
    "        plt.ylim(0.1, 100)\n",
    "    else:\n",
    "        plt.ylim(0, 100) #Standardising y-axis for ease of comparison\n",
    "    plt.show()\n",
    "    \n",
    "def updateBar(sex):\n",
    "    plt.figure(figsize=(10, 6))\n",
    "    if sex == 'Both':\n",
    "        allDeaths_df.plot(kind='bar', title='Death Rate by Sex and Age')\n",
    "    else:\n",
    "        allDeaths_df[[f'{sex} Deaths']].plot(kind='bar', title=f'{sex} Death Rate by Age')\n",
    "    plt.xlabel('Age')\n",
    "    plt.ylabel('Death Rate')\n",
    "    plt.ylim(0, 12000) #Standardising y-axis for ease of comparison\n",
    "    plt.show()"
   ]
  },
  {
   "cell_type": "code",
   "execution_count": 264,
   "id": "cce44a69",
   "metadata": {},
   "outputs": [
    {
     "data": {
      "text/html": [
       "<div>\n",
       "<style scoped>\n",
       "    .dataframe tbody tr th:only-of-type {\n",
       "        vertical-align: middle;\n",
       "    }\n",
       "\n",
       "    .dataframe tbody tr th {\n",
       "        vertical-align: top;\n",
       "    }\n",
       "\n",
       "    .dataframe thead th {\n",
       "        text-align: right;\n",
       "    }\n",
       "</style>\n",
       "<table border=\"1\" class=\"dataframe\">\n",
       "  <thead>\n",
       "    <tr style=\"text-align: right;\">\n",
       "      <th></th>\n",
       "      <th>Male Deaths</th>\n",
       "      <th>Female Deaths</th>\n",
       "    </tr>\n",
       "    <tr>\n",
       "      <th>age</th>\n",
       "      <th></th>\n",
       "      <th></th>\n",
       "    </tr>\n",
       "  </thead>\n",
       "  <tbody>\n",
       "    <tr>\n",
       "      <th>0_to_4</th>\n",
       "      <td>1.7</td>\n",
       "      <td>1.7</td>\n",
       "    </tr>\n",
       "    <tr>\n",
       "      <th>5_to_9</th>\n",
       "      <td>0.8</td>\n",
       "      <td>1.0</td>\n",
       "    </tr>\n",
       "    <tr>\n",
       "      <th>10_to_14</th>\n",
       "      <td>0.9</td>\n",
       "      <td>1.3</td>\n",
       "    </tr>\n",
       "    <tr>\n",
       "      <th>15_to_19</th>\n",
       "      <td>3.9</td>\n",
       "      <td>2.3</td>\n",
       "    </tr>\n",
       "    <tr>\n",
       "      <th>20_to_24</th>\n",
       "      <td>6.3</td>\n",
       "      <td>4.2</td>\n",
       "    </tr>\n",
       "    <tr>\n",
       "      <th>25_to_29</th>\n",
       "      <td>8.0</td>\n",
       "      <td>6.1</td>\n",
       "    </tr>\n",
       "    <tr>\n",
       "      <th>30_to_34</th>\n",
       "      <td>14.6</td>\n",
       "      <td>11.1</td>\n",
       "    </tr>\n",
       "    <tr>\n",
       "      <th>35_to_39</th>\n",
       "      <td>25.4</td>\n",
       "      <td>18.1</td>\n",
       "    </tr>\n",
       "    <tr>\n",
       "      <th>40_to_44</th>\n",
       "      <td>42.1</td>\n",
       "      <td>27.2</td>\n",
       "    </tr>\n",
       "    <tr>\n",
       "      <th>45_to_49</th>\n",
       "      <td>66.8</td>\n",
       "      <td>46.6</td>\n",
       "    </tr>\n",
       "    <tr>\n",
       "      <th>50_to_54</th>\n",
       "      <td>113.6</td>\n",
       "      <td>73.2</td>\n",
       "    </tr>\n",
       "    <tr>\n",
       "      <th>55_to_59</th>\n",
       "      <td>191.4</td>\n",
       "      <td>112.0</td>\n",
       "    </tr>\n",
       "    <tr>\n",
       "      <th>60_to_64</th>\n",
       "      <td>265.9</td>\n",
       "      <td>148.1</td>\n",
       "    </tr>\n",
       "    <tr>\n",
       "      <th>65_to_69</th>\n",
       "      <td>633.6</td>\n",
       "      <td>365.5</td>\n",
       "    </tr>\n",
       "    <tr>\n",
       "      <th>70_to_74</th>\n",
       "      <td>850.0</td>\n",
       "      <td>487.3</td>\n",
       "    </tr>\n",
       "    <tr>\n",
       "      <th>75_to_79</th>\n",
       "      <td>1692.6</td>\n",
       "      <td>975.5</td>\n",
       "    </tr>\n",
       "    <tr>\n",
       "      <th>80_to_84</th>\n",
       "      <td>3039.8</td>\n",
       "      <td>1782.8</td>\n",
       "    </tr>\n",
       "    <tr>\n",
       "      <th>85_to_89</th>\n",
       "      <td>5665.4</td>\n",
       "      <td>3370.4</td>\n",
       "    </tr>\n",
       "    <tr>\n",
       "      <th>90+</th>\n",
       "      <td>10500.9</td>\n",
       "      <td>6691.0</td>\n",
       "    </tr>\n",
       "  </tbody>\n",
       "</table>\n",
       "</div>"
      ],
      "text/plain": [
       "          Male Deaths  Female Deaths\n",
       "age                                 \n",
       "0_to_4            1.7            1.7\n",
       "5_to_9            0.8            1.0\n",
       "10_to_14          0.9            1.3\n",
       "15_to_19          3.9            2.3\n",
       "20_to_24          6.3            4.2\n",
       "25_to_29          8.0            6.1\n",
       "30_to_34         14.6           11.1\n",
       "35_to_39         25.4           18.1\n",
       "40_to_44         42.1           27.2\n",
       "45_to_49         66.8           46.6\n",
       "50_to_54        113.6           73.2\n",
       "55_to_59        191.4          112.0\n",
       "60_to_64        265.9          148.1\n",
       "65_to_69        633.6          365.5\n",
       "70_to_74        850.0          487.3\n",
       "75_to_79       1692.6          975.5\n",
       "80_to_84       3039.8         1782.8\n",
       "85_to_89       5665.4         3370.4\n",
       "90+           10500.9         6691.0"
      ]
     },
     "execution_count": 264,
     "metadata": {},
     "output_type": "execute_result"
    }
   ],
   "source": [
    "Eng_df = pd.read_pickle(\"EngProg_df.pkl\")\n",
    "Sco_df = pd.read_pickle(\"ScoProg_df.pkl\")\n",
    "allDeaths_df = pd.read_pickle(\"allDeaths_df.pkl\")\n",
   ]
  },
  {
   "cell_type": "code",
   "execution_count": 265,
   "id": "24bf7fb2",
   "metadata": {},
   "outputs": [],
   "source": [
    "scaleRadio = wdg.RadioButtons(\n",
    "    options=['linear', 'log'],\n",
    "    disabled=False)\n",
    "countrySelect = wdg.ToggleButtons(\n",
    "    options=['England', 'Scotland'],\n",
    "    description='Select Nation:',\n",
    "    disabled=False\n",
    ")"
   ]
  },
  {
   "cell_type": "markdown",
   "id": "3221d5ff",
   "metadata": {},
   "source": [
    "# Vaccination Effort in 2021\n",
    "\n",
    "As you may recall the first year of the pandemic, the race to develop and administer a vaccine for SARS-CoV-2 among the general population was a major feature of public discourse. Clinical findings for most vaccines were highly encouraging, showing a high degree of protection against acute symptoms of the disease. In this figure, we have used the rolling death and hospitalisation rates for COVID-19 expressed as a proportion of positive tests (with specimen dates offset by 21 and 14 days, respectively, to account for the virus' incubation period) to serve as a proxy for case fatality and hopitalisation rates.\n",
    "\n",
    "This is an admittedly imperfect proxy, partiuclarly as time passes and adherence to COVID-19 testing protocols declined. Even so, a rapid improvmement in the prognosis of positive tests can be observed that after a remarkably quick mass-vaccination programme at the start of 2021. Even accounting for other factors such as the rate of ambient natural immunity after widespread circulation of the virus, it can be reasonably concluded that the vaccination programme conferred durable degree of protection against severe disease on the population level."
   ]
  },
  {
   "cell_type": "code",
   "execution_count": 266,
   "id": "f60cf897",
   "metadata": {},
   "outputs": [
    {
     "data": {
      "application/vnd.jupyter.widget-view+json": {
       "model_id": "b61c0c8153624b688143f41491a2f9be",
       "version_major": 2,
       "version_minor": 0
      },
      "text/plain": [
       "interactive(children=(ToggleButtons(description='Select Nation:', options=('England', 'Scotland'), value='Engl…"
      ]
     },
     "execution_count": 266,
     "metadata": {},
     "output_type": "execute_result"
    }
   ],
   "source": [
    "wdg.interactive(updatePlotPercent,series = countrySelect, scale=scaleRadio)"
   ]
  },
  {
   "cell_type": "markdown",
   "id": "157f3673",
   "metadata": {},
   "source": [
    "# Death Rates by Age and Sex\n",
    "\n",
    "It is well understood that COVID-19 mortality is concentrated disproportionately among the elderly. In the following graphic, we can see the degree to which this is the case, with elderly patients suffering a particularly high death rate. A sex-dependent effect is also observable, as death rates appear noticeably higher among men than women. "
   ]
  },
  {
   "cell_type": "code",
   "execution_count": 268,
   "id": "e88eb5b6",
   "metadata": {
    "scrolled": false
   },
   "outputs": [
    {
     "data": {
      "application/vnd.jupyter.widget-view+json": {
       "model_id": "d0593b41706549ffae7fc7d9c377c61f",
       "version_major": 2,
       "version_minor": 0
      },
      "text/plain": [
       "interactive(children=(Dropdown(description='Sex:', options=('Male', 'Female', 'Both'), value='Male'), Output()…"
      ]
     },
     "execution_count": 268,
     "metadata": {},
     "output_type": "execute_result"
    }
   ],
   "source": [
    "options = ['Male', 'Female', 'Both']\n",
    "dropdown = wdg.Dropdown(options=options, description='Sex:')\n",
    "wdg.interactive(updateBar, sex=dropdown)"
   ]
  }
 ],
 "metadata": {
  "kernelspec": {
   "display_name": "Python 3 (ipykernel)",
   "language": "python",
   "name": "python3"
  },
  "language_info": {
   "codemirror_mode": {
    "name": "ipython",
    "version": 3
   },
   "file_extension": ".py",
   "mimetype": "text/x-python",
   "name": "python",
   "nbconvert_exporter": "python",
   "pygments_lexer": "ipython3",
   "version": "3.11.5"
  }
 },
 "nbformat": 4,
 "nbformat_minor": 5
}
