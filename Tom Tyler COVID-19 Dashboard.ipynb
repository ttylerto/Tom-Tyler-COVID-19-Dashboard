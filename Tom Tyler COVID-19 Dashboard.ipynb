{
 "cells": [
  {
   "cell_type": "code",
   "execution_count": 1,
   "id": "4b912973",
   "metadata": {
    "tags": []
   },
   "outputs": [],
   "source": [
    "from uk_covid19 import Cov19API\n",
    "import json\n",
    "from IPython.display import clear_output\n",
    "import ipywidgets as wdg\n",
    "import pandas as pd\n",
    "import datetime\n",
    "import numpy as np\n",
    "import matplotlib.pyplot as plt\n",
    "%matplotlib inline\n",
    "plt.rcParams['figure.dpi'] = 100"
   ]
  },
  {
   "cell_type": "code",
   "execution_count": 2,
   "id": "41edf5fe",
   "metadata": {
    "tags": []
   },
   "outputs": [],
   "source": [
    "apibutton=wdg.Button(\n",
    "    description='Refresh data',\n",
    "    disabled=False,\n",
    "    button_style='', # 'success', 'info', 'warning', 'danger' or ''\n",
    "    tooltip='Click to download current Public Health England data',\n",
    "    icon='download' # (FontAwesome names without the `fa-` prefix)\n",
    ")"
   ]
  },
  {
   "cell_type": "code",
   "execution_count": 3,
   "id": "d12e2977",
   "metadata": {
    "tags": []
   },
   "outputs": [],
   "source": [
    "def normaliseDate(dat):\n",
    "    ##wrangles data and makes the date the index\n",
    "    dat = dat.get(\"data\")\n",
    "    df = pd.json_normalize(dat)\n",
    "    df['date'] = pd.to_datetime(df[\"date\"])\n",
    "    df = df.loc[(df['date'] >= '2020-05-01') & (df['date'] < '2022-05-01')]\n",
    "    df.set_index(\"date\", inplace = True)\n",
    "    return df\n",
    "\n",
    "def normaliseAge(field, df):\n",
    "    ##wrangles data and makes age the index\n",
    "    df = df.get(\"data\")[0]\n",
    "    df = pd.json_normalize(df.get(field))\n",
    "    df = df.set_index(\"age\")\n",
    "    df = df.drop(['value'], axis = 1) #raw numbers not too helpful here due to population pyramid, so I'm discarding\n",
    "    return df\n",
    "\n",
    "def newColumns(df): \n",
    "    ## adding case fatality & case hospitalisation\n",
    "    df['case-21'] = df['cases'].shift(-21) #accounts for ~3 week latency between infection & death?\n",
    "    df['case-14'] = df['cases'].shift(-14) #accounts for ~2 week incubation prior to hospitalisation?\n",
    "    df['caseFatality'] = np.where(df['case-21'] != 0, df['deathRate']/df['case-21']*100, np.nan)\n",
    "    df['caseHospitalisation'] = np.where(df['case-14'] != 0, df['hospitalRate']/df['case-21']*100, np.nan)\n",
    "    df = df.drop(['case-21','cases','case-14','deathRate','hospitalRate'], axis = 1) #we don't need these anymore\n",
    "    return df\n",
    "\n",
    "def access_api(button):\n",
    "    apibutton.icon=\"check\"\n",
    "    apibutton.disabled=True"
   ]
  },
  {
   "cell_type": "code",
   "execution_count": 4,
   "id": "7bb604ef",
   "metadata": {
    "tags": []
   },
   "outputs": [],
   "source": [
    "with open(\"deaths.json\",\"rt\") as INFILE:\n",
    "    deaths=json.load(INFILE)\n",
    "with open(\"EngOverview.json\",\"rt\") as INFILE:\n",
    "    EngOverview = json.load(INFILE)\n",
    "with open(\"ScoOverview.json\",\"rt\") as INFILE:\n",
    "    ScoOverview = json.load(INFILE)"
   ]
  },
  {
   "cell_type": "code",
   "execution_count": 5,
   "id": "0aab64d8",
   "metadata": {
    "tags": []
   },
   "outputs": [],
   "source": [
    "##producing dataframes\n",
    "maleDeaths = normaliseAge(\"maleDeaths\", deaths)\n",
    "femaleDeaths = normaliseAge(\"femaleDeaths\", deaths)\n",
    "allDeaths_df = pd.merge(maleDeaths, femaleDeaths, on='age', suffixes=('_male', '_female'))\n",
    "allDeaths_df.rename(columns={'rate_male':'Male Deaths', 'rate_female':'Female Deaths'}, inplace=True)\n",
    "allDeaths_df.to_pickle(\"allDeaths_df.pkl\")"
   ]
  },
  {
   "cell_type": "code",
   "execution_count": 6,
   "id": "75a0111a",
   "metadata": {
    "tags": []
   },
   "outputs": [],
   "source": [
    "##producing dataframes\n",
    "Eng_df = newColumns(normaliseDate(EngOverview))\n",
    "Sco_df = newColumns(normaliseDate(ScoOverview))\n",
    "Eng_df.to_pickle(\"EngProg_df.pkl\")\n",
    "Sco_df.to_pickle(\"ScoProg_df.pkl\")"
   ]
  },
  {
   "cell_type": "code",
   "execution_count": 7,
   "id": "1486ffda",
   "metadata": {
    "tags": []
   },
   "outputs": [],
   "source": [
    "##incorporating widget selections\n",
    "def updatePlotPercent(series,scale):\n",
    "    if series == 'England':\n",
    "        Eng_df.plot(title='England Vaccination vs. COVID-19 Prognosis', color = ['blue','red','orange'])\n",
    "    elif series == 'Scotland':\n",
    "        Sco_df.plot(title='Scotland Vaccination vs. COVID-19 Prognosis', color = ['blue','red','orange'])\n",
    "    plt.xlabel('Date')\n",
    "    plt.ylabel('Percent')\n",
    "    if scale == 'log':\n",
    "        plt.yscale('log')\n",
    "        plt.ylim(0.1, 100)\n",
    "    else:\n",
    "        plt.ylim(0, 100) #Standardising y-axis for ease of comparison\n",
    "    plt.show()\n",
    "    \n",
    "def updateBar(sex):\n",
    "    plt.figure(figsize=(10, 6))\n",
    "    if sex == 'Both':\n",
    "        allDeaths_df.plot(kind='bar', title='Death Rate by Sex and Age')\n",
    "    else:\n",
    "        allDeaths_df[[f'{sex} Deaths']].plot(kind='bar', title=f'{sex} Death Rate by Age')\n",
    "    plt.xlabel('Age')\n",
    "    plt.ylabel('Death Rate')\n",
    "    plt.ylim(0, 12000) #Standardising y-axis for ease of comparison\n",
    "    plt.show()"
   ]
  },
  {
   "cell_type": "code",
   "execution_count": 8,
   "id": "f60c2446",
   "metadata": {
    "tags": []
   },
   "outputs": [],
   "source": [
    "Eng_df = pd.read_pickle(\"EngProg_df.pkl\")\n",
    "Sco_df = pd.read_pickle(\"ScoProg_df.pkl\")\n",
    "allDeaths_df = pd.read_pickle(\"allDeaths_df.pkl\")"
   ]
  },
  {
   "cell_type": "code",
   "execution_count": 9,
   "id": "24bf7fb2",
   "metadata": {
    "tags": []
   },
   "outputs": [],
   "source": [
    "scaleRadio = wdg.RadioButtons(\n",
    "    options=['linear', 'log'],\n",
    "    disabled=False)\n",
    "countrySelect = wdg.ToggleButtons(\n",
    "    options=['England', 'Scotland'],\n",
    "    description='Select Nation:',\n",
    "    disabled=False\n",
    ")"
   ]
  },
  {
   "cell_type": "markdown",
   "id": "702335f3",
   "metadata": {},
   "source": [
    "# Refresh Data"
   ]
  },
  {
   "cell_type": "code",
   "execution_count": 10,
   "id": "fcdbb036",
   "metadata": {
    "tags": []
   },
   "outputs": [
    {
     "data": {
      "application/vnd.jupyter.widget-view+json": {
       "model_id": "9188ec0c620b42949152aab3077bfcbd",
       "version_major": 2,
       "version_minor": 0
      },
      "text/plain": [
       "Button(description='Refresh data', icon='download', style=ButtonStyle(), tooltip='Click to download current Pu…"
      ]
     },
     "metadata": {},
     "output_type": "display_data"
    }
   ],
   "source": [
    "apibutton.on_click(access_api)\n",
    "display(apibutton)"
   ]
  },
  {
   "cell_type": "markdown",
   "id": "3221d5ff",
   "metadata": {},
   "source": [
    "# Vaccination Effort in 2021\n",
    "\n",
    "As you may recall the first year of the pandemic, the race to develop and administer a vaccine for SARS-CoV-2 among the general population was a major feature of public discourse. Clinical findings for most vaccines were highly encouraging, showing a high degree of protection against acute symptoms of the disease. In this figure, we have used the rolling death and hospitalisation rates for COVID-19 expressed as a proportion of positive tests (with specimen dates offset by 21 and 14 days, respectively, to account for the virus' incubation period) to serve as a proxy for case fatality and hopitalisation rates.\n",
    "\n",
    "This is an admittedly imperfect proxy, partiuclarly as time passes and adherence to COVID-19 testing protocols declined. Even so, a rapid improvmement in the prognosis of positive tests can be observed that after a remarkably quick mass-vaccination programme at the start of 2021. Even accounting for other factors such as the rate of ambient natural immunity after widespread circulation of the virus, it can be reasonably concluded that the vaccination programme conferred durable degree of protection against severe disease on the population level."
   ]
  },
  {
   "cell_type": "code",
   "execution_count": 11,
   "id": "f60cf897",
   "metadata": {
    "tags": []
   },
   "outputs": [
    {
     "data": {
      "application/vnd.jupyter.widget-view+json": {
       "model_id": "880074f2810f4ad49fa877d2e48a799e",
       "version_major": 2,
       "version_minor": 0
      },
      "text/plain": [
       "interactive(children=(ToggleButtons(description='Select Nation:', options=('England', 'Scotland'), value='Engl…"
      ]
     },
     "execution_count": 11,
     "metadata": {},
     "output_type": "execute_result"
    }
   ],
   "source": [
    "wdg.interactive(updatePlotPercent,series = countrySelect, scale=scaleRadio)"
   ]
  },
  {
   "cell_type": "markdown",
   "id": "40100127",
   "metadata": {},
   "source": [
    "# Death Rates by Age and Sex\n",
    "\n",
    "It is well understood that COVID-19 mortality is concentrated disproportionately among the elderly. In the following graphic, we can see the degree to which this is the case, with elderly patients suffering a particularly high death rate. A sex-dependent effect is also observable, as death rates appear noticeably higher among men than women. "
   ]
  },
  {
   "cell_type": "code",
   "execution_count": 12,
   "id": "e88eb5b6",
   "metadata": {
    "tags": []
   },
   "outputs": [
    {
     "data": {
      "application/vnd.jupyter.widget-view+json": {
       "model_id": "b2aa639587b44919bf7669bedf59d099",
       "version_major": 2,
       "version_minor": 0
      },
      "text/plain": [
       "interactive(children=(Dropdown(description='Sex:', options=('Male', 'Female', 'Both'), value='Male'), Output()…"
      ]
     },
     "execution_count": 12,
     "metadata": {},
     "output_type": "execute_result"
    }
   ],
   "source": [
    "options = ['Male', 'Female', 'Both']\n",
    "dropdown = wdg.Dropdown(options=options, description='Sex:')\n",
    "wdg.interactive(updateBar, sex=dropdown)"
   ]
  }
 ],
 "metadata": {
  "kernelspec": {
   "display_name": "Python 3 (ipykernel)",
   "language": "python",
   "name": "python3"
  },
  "language_info": {
   "codemirror_mode": {
    "name": "ipython",
    "version": 3
   },
   "file_extension": ".py",
   "mimetype": "text/x-python",
   "name": "python",
   "nbconvert_exporter": "python",
   "pygments_lexer": "ipython3",
   "version": "3.10.12"
  },
  "toc-showmarkdowntxt": false
 },
 "nbformat": 4,
 "nbformat_minor": 5
}
